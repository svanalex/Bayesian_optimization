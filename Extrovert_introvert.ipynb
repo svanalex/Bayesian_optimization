{
  "nbformat": 4,
  "nbformat_minor": 0,
  "metadata": {
    "colab": {
      "provenance": [],
      "toc_visible": true,
      "authorship_tag": "ABX9TyOo/Ov+QE/thqaM7yCi6sF5",
      "include_colab_link": true
    },
    "kernelspec": {
      "name": "python3",
      "display_name": "Python 3"
    },
    "language_info": {
      "name": "python"
    }
  },
  "cells": [
    {
      "cell_type": "markdown",
      "metadata": {
        "id": "view-in-github",
        "colab_type": "text"
      },
      "source": [
        "<a href=\"https://colab.research.google.com/github/svanalex/Bayesian_optimization/blob/main/Extrovert_introvert.ipynb\" target=\"_parent\"><img src=\"https://colab.research.google.com/assets/colab-badge.svg\" alt=\"Open In Colab\"/></a>"
      ]
    },
    {
      "cell_type": "code",
      "execution_count": 175,
      "metadata": {
        "colab": {
          "base_uri": "https://localhost:8080/"
        },
        "id": "w4GB4wBGUTi3",
        "outputId": "9b412e75-4a33-4d8c-8181-611206d31190"
      },
      "outputs": [
        {
          "output_type": "stream",
          "name": "stdout",
          "text": [
            "Path to dataset files: /kaggle/input/extrovert-vs-introvert-behavior-data\n"
          ]
        }
      ],
      "source": [
        "import kagglehub\n",
        "\n",
        "# Download latest version\n",
        "path = kagglehub.dataset_download(\"rakeshkapilavai/extrovert-vs-introvert-behavior-data\")\n",
        "\n",
        "print(\"Path to dataset files:\", path)"
      ]
    },
    {
      "cell_type": "code",
      "source": [
        "import pandas as pd\n",
        "import numpy as np\n",
        "import matplotlib.pyplot as plt\n",
        "import seaborn as sns"
      ],
      "metadata": {
        "id": "KgMBOmPRUc9i"
      },
      "execution_count": 176,
      "outputs": []
    },
    {
      "cell_type": "markdown",
      "source": [
        "##Data preprocessing"
      ],
      "metadata": {
        "id": "Kl8VPrtj74fo"
      }
    },
    {
      "cell_type": "code",
      "source": [
        "df = pd.read_csv(\"/kaggle/input/extrovert-vs-introvert-behavior-data/personality_dataset.csv\")\n",
        "df.head(10)"
      ],
      "metadata": {
        "colab": {
          "base_uri": "https://localhost:8080/",
          "height": 383
        },
        "id": "objzCEzhUlVZ",
        "outputId": "cdbcf13b-6591-4bca-cffa-416a1c6b45aa"
      },
      "execution_count": 177,
      "outputs": [
        {
          "output_type": "execute_result",
          "data": {
            "text/plain": [
              "   Time_spent_Alone Stage_fear  Social_event_attendance  Going_outside  \\\n",
              "0               4.0         No                      4.0            6.0   \n",
              "1               9.0        Yes                      0.0            0.0   \n",
              "2               9.0        Yes                      1.0            2.0   \n",
              "3               0.0         No                      6.0            7.0   \n",
              "4               3.0         No                      9.0            4.0   \n",
              "5               1.0         No                      7.0            5.0   \n",
              "6               4.0         No                      9.0            NaN   \n",
              "7               2.0         No                      8.0            4.0   \n",
              "8              10.0        Yes                      1.0            3.0   \n",
              "9               0.0         No                      8.0            6.0   \n",
              "\n",
              "  Drained_after_socializing  Friends_circle_size  Post_frequency Personality  \n",
              "0                        No                 13.0             5.0   Extrovert  \n",
              "1                       Yes                  0.0             3.0   Introvert  \n",
              "2                       Yes                  5.0             2.0   Introvert  \n",
              "3                        No                 14.0             8.0   Extrovert  \n",
              "4                        No                  8.0             5.0   Extrovert  \n",
              "5                        No                  6.0             6.0   Extrovert  \n",
              "6                        No                  7.0             7.0   Extrovert  \n",
              "7                        No                  7.0             8.0   Extrovert  \n",
              "8                       Yes                  0.0             3.0   Introvert  \n",
              "9                        No                 13.0             8.0   Extrovert  "
            ],
            "text/html": [
              "\n",
              "  <div id=\"df-169421ee-d02d-4540-9d63-90ba963e662a\" class=\"colab-df-container\">\n",
              "    <div>\n",
              "<style scoped>\n",
              "    .dataframe tbody tr th:only-of-type {\n",
              "        vertical-align: middle;\n",
              "    }\n",
              "\n",
              "    .dataframe tbody tr th {\n",
              "        vertical-align: top;\n",
              "    }\n",
              "\n",
              "    .dataframe thead th {\n",
              "        text-align: right;\n",
              "    }\n",
              "</style>\n",
              "<table border=\"1\" class=\"dataframe\">\n",
              "  <thead>\n",
              "    <tr style=\"text-align: right;\">\n",
              "      <th></th>\n",
              "      <th>Time_spent_Alone</th>\n",
              "      <th>Stage_fear</th>\n",
              "      <th>Social_event_attendance</th>\n",
              "      <th>Going_outside</th>\n",
              "      <th>Drained_after_socializing</th>\n",
              "      <th>Friends_circle_size</th>\n",
              "      <th>Post_frequency</th>\n",
              "      <th>Personality</th>\n",
              "    </tr>\n",
              "  </thead>\n",
              "  <tbody>\n",
              "    <tr>\n",
              "      <th>0</th>\n",
              "      <td>4.0</td>\n",
              "      <td>No</td>\n",
              "      <td>4.0</td>\n",
              "      <td>6.0</td>\n",
              "      <td>No</td>\n",
              "      <td>13.0</td>\n",
              "      <td>5.0</td>\n",
              "      <td>Extrovert</td>\n",
              "    </tr>\n",
              "    <tr>\n",
              "      <th>1</th>\n",
              "      <td>9.0</td>\n",
              "      <td>Yes</td>\n",
              "      <td>0.0</td>\n",
              "      <td>0.0</td>\n",
              "      <td>Yes</td>\n",
              "      <td>0.0</td>\n",
              "      <td>3.0</td>\n",
              "      <td>Introvert</td>\n",
              "    </tr>\n",
              "    <tr>\n",
              "      <th>2</th>\n",
              "      <td>9.0</td>\n",
              "      <td>Yes</td>\n",
              "      <td>1.0</td>\n",
              "      <td>2.0</td>\n",
              "      <td>Yes</td>\n",
              "      <td>5.0</td>\n",
              "      <td>2.0</td>\n",
              "      <td>Introvert</td>\n",
              "    </tr>\n",
              "    <tr>\n",
              "      <th>3</th>\n",
              "      <td>0.0</td>\n",
              "      <td>No</td>\n",
              "      <td>6.0</td>\n",
              "      <td>7.0</td>\n",
              "      <td>No</td>\n",
              "      <td>14.0</td>\n",
              "      <td>8.0</td>\n",
              "      <td>Extrovert</td>\n",
              "    </tr>\n",
              "    <tr>\n",
              "      <th>4</th>\n",
              "      <td>3.0</td>\n",
              "      <td>No</td>\n",
              "      <td>9.0</td>\n",
              "      <td>4.0</td>\n",
              "      <td>No</td>\n",
              "      <td>8.0</td>\n",
              "      <td>5.0</td>\n",
              "      <td>Extrovert</td>\n",
              "    </tr>\n",
              "    <tr>\n",
              "      <th>5</th>\n",
              "      <td>1.0</td>\n",
              "      <td>No</td>\n",
              "      <td>7.0</td>\n",
              "      <td>5.0</td>\n",
              "      <td>No</td>\n",
              "      <td>6.0</td>\n",
              "      <td>6.0</td>\n",
              "      <td>Extrovert</td>\n",
              "    </tr>\n",
              "    <tr>\n",
              "      <th>6</th>\n",
              "      <td>4.0</td>\n",
              "      <td>No</td>\n",
              "      <td>9.0</td>\n",
              "      <td>NaN</td>\n",
              "      <td>No</td>\n",
              "      <td>7.0</td>\n",
              "      <td>7.0</td>\n",
              "      <td>Extrovert</td>\n",
              "    </tr>\n",
              "    <tr>\n",
              "      <th>7</th>\n",
              "      <td>2.0</td>\n",
              "      <td>No</td>\n",
              "      <td>8.0</td>\n",
              "      <td>4.0</td>\n",
              "      <td>No</td>\n",
              "      <td>7.0</td>\n",
              "      <td>8.0</td>\n",
              "      <td>Extrovert</td>\n",
              "    </tr>\n",
              "    <tr>\n",
              "      <th>8</th>\n",
              "      <td>10.0</td>\n",
              "      <td>Yes</td>\n",
              "      <td>1.0</td>\n",
              "      <td>3.0</td>\n",
              "      <td>Yes</td>\n",
              "      <td>0.0</td>\n",
              "      <td>3.0</td>\n",
              "      <td>Introvert</td>\n",
              "    </tr>\n",
              "    <tr>\n",
              "      <th>9</th>\n",
              "      <td>0.0</td>\n",
              "      <td>No</td>\n",
              "      <td>8.0</td>\n",
              "      <td>6.0</td>\n",
              "      <td>No</td>\n",
              "      <td>13.0</td>\n",
              "      <td>8.0</td>\n",
              "      <td>Extrovert</td>\n",
              "    </tr>\n",
              "  </tbody>\n",
              "</table>\n",
              "</div>\n",
              "    <div class=\"colab-df-buttons\">\n",
              "\n",
              "  <div class=\"colab-df-container\">\n",
              "    <button class=\"colab-df-convert\" onclick=\"convertToInteractive('df-169421ee-d02d-4540-9d63-90ba963e662a')\"\n",
              "            title=\"Convert this dataframe to an interactive table.\"\n",
              "            style=\"display:none;\">\n",
              "\n",
              "  <svg xmlns=\"http://www.w3.org/2000/svg\" height=\"24px\" viewBox=\"0 -960 960 960\">\n",
              "    <path d=\"M120-120v-720h720v720H120Zm60-500h600v-160H180v160Zm220 220h160v-160H400v160Zm0 220h160v-160H400v160ZM180-400h160v-160H180v160Zm440 0h160v-160H620v160ZM180-180h160v-160H180v160Zm440 0h160v-160H620v160Z\"/>\n",
              "  </svg>\n",
              "    </button>\n",
              "\n",
              "  <style>\n",
              "    .colab-df-container {\n",
              "      display:flex;\n",
              "      gap: 12px;\n",
              "    }\n",
              "\n",
              "    .colab-df-convert {\n",
              "      background-color: #E8F0FE;\n",
              "      border: none;\n",
              "      border-radius: 50%;\n",
              "      cursor: pointer;\n",
              "      display: none;\n",
              "      fill: #1967D2;\n",
              "      height: 32px;\n",
              "      padding: 0 0 0 0;\n",
              "      width: 32px;\n",
              "    }\n",
              "\n",
              "    .colab-df-convert:hover {\n",
              "      background-color: #E2EBFA;\n",
              "      box-shadow: 0px 1px 2px rgba(60, 64, 67, 0.3), 0px 1px 3px 1px rgba(60, 64, 67, 0.15);\n",
              "      fill: #174EA6;\n",
              "    }\n",
              "\n",
              "    .colab-df-buttons div {\n",
              "      margin-bottom: 4px;\n",
              "    }\n",
              "\n",
              "    [theme=dark] .colab-df-convert {\n",
              "      background-color: #3B4455;\n",
              "      fill: #D2E3FC;\n",
              "    }\n",
              "\n",
              "    [theme=dark] .colab-df-convert:hover {\n",
              "      background-color: #434B5C;\n",
              "      box-shadow: 0px 1px 3px 1px rgba(0, 0, 0, 0.15);\n",
              "      filter: drop-shadow(0px 1px 2px rgba(0, 0, 0, 0.3));\n",
              "      fill: #FFFFFF;\n",
              "    }\n",
              "  </style>\n",
              "\n",
              "    <script>\n",
              "      const buttonEl =\n",
              "        document.querySelector('#df-169421ee-d02d-4540-9d63-90ba963e662a button.colab-df-convert');\n",
              "      buttonEl.style.display =\n",
              "        google.colab.kernel.accessAllowed ? 'block' : 'none';\n",
              "\n",
              "      async function convertToInteractive(key) {\n",
              "        const element = document.querySelector('#df-169421ee-d02d-4540-9d63-90ba963e662a');\n",
              "        const dataTable =\n",
              "          await google.colab.kernel.invokeFunction('convertToInteractive',\n",
              "                                                    [key], {});\n",
              "        if (!dataTable) return;\n",
              "\n",
              "        const docLinkHtml = 'Like what you see? Visit the ' +\n",
              "          '<a target=\"_blank\" href=https://colab.research.google.com/notebooks/data_table.ipynb>data table notebook</a>'\n",
              "          + ' to learn more about interactive tables.';\n",
              "        element.innerHTML = '';\n",
              "        dataTable['output_type'] = 'display_data';\n",
              "        await google.colab.output.renderOutput(dataTable, element);\n",
              "        const docLink = document.createElement('div');\n",
              "        docLink.innerHTML = docLinkHtml;\n",
              "        element.appendChild(docLink);\n",
              "      }\n",
              "    </script>\n",
              "  </div>\n",
              "\n",
              "\n",
              "    <div id=\"df-c942a3ec-092e-4ff1-a052-de926451b7eb\">\n",
              "      <button class=\"colab-df-quickchart\" onclick=\"quickchart('df-c942a3ec-092e-4ff1-a052-de926451b7eb')\"\n",
              "                title=\"Suggest charts\"\n",
              "                style=\"display:none;\">\n",
              "\n",
              "<svg xmlns=\"http://www.w3.org/2000/svg\" height=\"24px\"viewBox=\"0 0 24 24\"\n",
              "     width=\"24px\">\n",
              "    <g>\n",
              "        <path d=\"M19 3H5c-1.1 0-2 .9-2 2v14c0 1.1.9 2 2 2h14c1.1 0 2-.9 2-2V5c0-1.1-.9-2-2-2zM9 17H7v-7h2v7zm4 0h-2V7h2v10zm4 0h-2v-4h2v4z\"/>\n",
              "    </g>\n",
              "</svg>\n",
              "      </button>\n",
              "\n",
              "<style>\n",
              "  .colab-df-quickchart {\n",
              "      --bg-color: #E8F0FE;\n",
              "      --fill-color: #1967D2;\n",
              "      --hover-bg-color: #E2EBFA;\n",
              "      --hover-fill-color: #174EA6;\n",
              "      --disabled-fill-color: #AAA;\n",
              "      --disabled-bg-color: #DDD;\n",
              "  }\n",
              "\n",
              "  [theme=dark] .colab-df-quickchart {\n",
              "      --bg-color: #3B4455;\n",
              "      --fill-color: #D2E3FC;\n",
              "      --hover-bg-color: #434B5C;\n",
              "      --hover-fill-color: #FFFFFF;\n",
              "      --disabled-bg-color: #3B4455;\n",
              "      --disabled-fill-color: #666;\n",
              "  }\n",
              "\n",
              "  .colab-df-quickchart {\n",
              "    background-color: var(--bg-color);\n",
              "    border: none;\n",
              "    border-radius: 50%;\n",
              "    cursor: pointer;\n",
              "    display: none;\n",
              "    fill: var(--fill-color);\n",
              "    height: 32px;\n",
              "    padding: 0;\n",
              "    width: 32px;\n",
              "  }\n",
              "\n",
              "  .colab-df-quickchart:hover {\n",
              "    background-color: var(--hover-bg-color);\n",
              "    box-shadow: 0 1px 2px rgba(60, 64, 67, 0.3), 0 1px 3px 1px rgba(60, 64, 67, 0.15);\n",
              "    fill: var(--button-hover-fill-color);\n",
              "  }\n",
              "\n",
              "  .colab-df-quickchart-complete:disabled,\n",
              "  .colab-df-quickchart-complete:disabled:hover {\n",
              "    background-color: var(--disabled-bg-color);\n",
              "    fill: var(--disabled-fill-color);\n",
              "    box-shadow: none;\n",
              "  }\n",
              "\n",
              "  .colab-df-spinner {\n",
              "    border: 2px solid var(--fill-color);\n",
              "    border-color: transparent;\n",
              "    border-bottom-color: var(--fill-color);\n",
              "    animation:\n",
              "      spin 1s steps(1) infinite;\n",
              "  }\n",
              "\n",
              "  @keyframes spin {\n",
              "    0% {\n",
              "      border-color: transparent;\n",
              "      border-bottom-color: var(--fill-color);\n",
              "      border-left-color: var(--fill-color);\n",
              "    }\n",
              "    20% {\n",
              "      border-color: transparent;\n",
              "      border-left-color: var(--fill-color);\n",
              "      border-top-color: var(--fill-color);\n",
              "    }\n",
              "    30% {\n",
              "      border-color: transparent;\n",
              "      border-left-color: var(--fill-color);\n",
              "      border-top-color: var(--fill-color);\n",
              "      border-right-color: var(--fill-color);\n",
              "    }\n",
              "    40% {\n",
              "      border-color: transparent;\n",
              "      border-right-color: var(--fill-color);\n",
              "      border-top-color: var(--fill-color);\n",
              "    }\n",
              "    60% {\n",
              "      border-color: transparent;\n",
              "      border-right-color: var(--fill-color);\n",
              "    }\n",
              "    80% {\n",
              "      border-color: transparent;\n",
              "      border-right-color: var(--fill-color);\n",
              "      border-bottom-color: var(--fill-color);\n",
              "    }\n",
              "    90% {\n",
              "      border-color: transparent;\n",
              "      border-bottom-color: var(--fill-color);\n",
              "    }\n",
              "  }\n",
              "</style>\n",
              "\n",
              "      <script>\n",
              "        async function quickchart(key) {\n",
              "          const quickchartButtonEl =\n",
              "            document.querySelector('#' + key + ' button');\n",
              "          quickchartButtonEl.disabled = true;  // To prevent multiple clicks.\n",
              "          quickchartButtonEl.classList.add('colab-df-spinner');\n",
              "          try {\n",
              "            const charts = await google.colab.kernel.invokeFunction(\n",
              "                'suggestCharts', [key], {});\n",
              "          } catch (error) {\n",
              "            console.error('Error during call to suggestCharts:', error);\n",
              "          }\n",
              "          quickchartButtonEl.classList.remove('colab-df-spinner');\n",
              "          quickchartButtonEl.classList.add('colab-df-quickchart-complete');\n",
              "        }\n",
              "        (() => {\n",
              "          let quickchartButtonEl =\n",
              "            document.querySelector('#df-c942a3ec-092e-4ff1-a052-de926451b7eb button');\n",
              "          quickchartButtonEl.style.display =\n",
              "            google.colab.kernel.accessAllowed ? 'block' : 'none';\n",
              "        })();\n",
              "      </script>\n",
              "    </div>\n",
              "\n",
              "    </div>\n",
              "  </div>\n"
            ],
            "application/vnd.google.colaboratory.intrinsic+json": {
              "type": "dataframe",
              "variable_name": "df",
              "summary": "{\n  \"name\": \"df\",\n  \"rows\": 2900,\n  \"fields\": [\n    {\n      \"column\": \"Time_spent_Alone\",\n      \"properties\": {\n        \"dtype\": \"number\",\n        \"std\": 3.4791923314542723,\n        \"min\": 0.0,\n        \"max\": 11.0,\n        \"num_unique_values\": 12,\n        \"samples\": [\n          7.0,\n          8.0,\n          4.0\n        ],\n        \"semantic_type\": \"\",\n        \"description\": \"\"\n      }\n    },\n    {\n      \"column\": \"Stage_fear\",\n      \"properties\": {\n        \"dtype\": \"category\",\n        \"num_unique_values\": 2,\n        \"samples\": [\n          \"Yes\",\n          \"No\"\n        ],\n        \"semantic_type\": \"\",\n        \"description\": \"\"\n      }\n    },\n    {\n      \"column\": \"Social_event_attendance\",\n      \"properties\": {\n        \"dtype\": \"number\",\n        \"std\": 2.9038273374964385,\n        \"min\": 0.0,\n        \"max\": 10.0,\n        \"num_unique_values\": 11,\n        \"samples\": [\n          7.0,\n          4.0\n        ],\n        \"semantic_type\": \"\",\n        \"description\": \"\"\n      }\n    },\n    {\n      \"column\": \"Going_outside\",\n      \"properties\": {\n        \"dtype\": \"number\",\n        \"std\": 2.247326528711436,\n        \"min\": 0.0,\n        \"max\": 7.0,\n        \"num_unique_values\": 8,\n        \"samples\": [\n          0.0,\n          5.0\n        ],\n        \"semantic_type\": \"\",\n        \"description\": \"\"\n      }\n    },\n    {\n      \"column\": \"Drained_after_socializing\",\n      \"properties\": {\n        \"dtype\": \"category\",\n        \"num_unique_values\": 2,\n        \"samples\": [\n          \"Yes\",\n          \"No\"\n        ],\n        \"semantic_type\": \"\",\n        \"description\": \"\"\n      }\n    },\n    {\n      \"column\": \"Friends_circle_size\",\n      \"properties\": {\n        \"dtype\": \"number\",\n        \"std\": 4.289692830709239,\n        \"min\": 0.0,\n        \"max\": 15.0,\n        \"num_unique_values\": 16,\n        \"samples\": [\n          13.0,\n          0.0\n        ],\n        \"semantic_type\": \"\",\n        \"description\": \"\"\n      }\n    },\n    {\n      \"column\": \"Post_frequency\",\n      \"properties\": {\n        \"dtype\": \"number\",\n        \"std\": 2.926581789039728,\n        \"min\": 0.0,\n        \"max\": 10.0,\n        \"num_unique_values\": 11,\n        \"samples\": [\n          7.0,\n          5.0\n        ],\n        \"semantic_type\": \"\",\n        \"description\": \"\"\n      }\n    },\n    {\n      \"column\": \"Personality\",\n      \"properties\": {\n        \"dtype\": \"category\",\n        \"num_unique_values\": 2,\n        \"samples\": [\n          \"Introvert\",\n          \"Extrovert\"\n        ],\n        \"semantic_type\": \"\",\n        \"description\": \"\"\n      }\n    }\n  ]\n}"
            }
          },
          "metadata": {},
          "execution_count": 177
        }
      ]
    },
    {
      "cell_type": "code",
      "source": [
        "def toNum(value):\n",
        "  if(value == 'No' or value == 'Introvert'):\n",
        "    return 0\n",
        "  else:\n",
        "    return 1"
      ],
      "metadata": {
        "id": "nEoPEJeJwr-s"
      },
      "execution_count": 178,
      "outputs": []
    },
    {
      "cell_type": "code",
      "metadata": {
        "id": "jVxGLY4uDCj5"
      },
      "source": [
        "df['Stage_fear'] = df['Stage_fear'].apply(toNum)\n",
        "df['Drained_after_socializing'] = df['Drained_after_socializing'].apply(toNum)\n",
        "df['Personality'] = df['Personality'].apply(toNum)"
      ],
      "execution_count": 179,
      "outputs": []
    },
    {
      "cell_type": "code",
      "source": [
        "#Filling all NaN values with column means\n",
        "df = df.fillna(df.mean())"
      ],
      "metadata": {
        "id": "v41RU2QJYnRl"
      },
      "execution_count": 180,
      "outputs": []
    },
    {
      "cell_type": "markdown",
      "source": [
        "##Data exploration"
      ],
      "metadata": {
        "id": "7ZdE4MNU7s1h"
      }
    },
    {
      "cell_type": "code",
      "source": [
        "#Checking for NaN values in this dataset\n",
        "print(df.isna().sum())"
      ],
      "metadata": {
        "colab": {
          "base_uri": "https://localhost:8080/"
        },
        "id": "VTUzl0y3X9o4",
        "outputId": "bd4a8b0d-7fbb-4c6f-c8d2-aa7c8f2f4555"
      },
      "execution_count": 181,
      "outputs": [
        {
          "output_type": "stream",
          "name": "stdout",
          "text": [
            "Time_spent_Alone             0\n",
            "Stage_fear                   0\n",
            "Social_event_attendance      0\n",
            "Going_outside                0\n",
            "Drained_after_socializing    0\n",
            "Friends_circle_size          0\n",
            "Post_frequency               0\n",
            "Personality                  0\n",
            "dtype: int64\n"
          ]
        }
      ]
    },
    {
      "cell_type": "code",
      "source": [
        "#Formatting a correlation matrix\n",
        "df.corr().style.background_gradient(cmap='coolwarm')"
      ],
      "metadata": {
        "colab": {
          "base_uri": "https://localhost:8080/",
          "height": 320
        },
        "id": "nBsSZaOHp8G1",
        "outputId": "1b9520ce-9b3f-4a76-ac93-3f912f78c4db"
      },
      "execution_count": 182,
      "outputs": [
        {
          "output_type": "execute_result",
          "data": {
            "text/plain": [
              "<pandas.io.formats.style.Styler at 0x7b62b8b8cc50>"
            ],
            "text/html": [
              "<style type=\"text/css\">\n",
              "#T_affb4_row0_col0, #T_affb4_row1_col1, #T_affb4_row2_col2, #T_affb4_row3_col3, #T_affb4_row4_col4, #T_affb4_row5_col5, #T_affb4_row6_col6, #T_affb4_row7_col7 {\n",
              "  background-color: #b40426;\n",
              "  color: #f1f1f1;\n",
              "}\n",
              "#T_affb4_row0_col1 {\n",
              "  background-color: #d55042;\n",
              "  color: #f1f1f1;\n",
              "}\n",
              "#T_affb4_row0_col2, #T_affb4_row0_col3 {\n",
              "  background-color: #4f69d9;\n",
              "  color: #f1f1f1;\n",
              "}\n",
              "#T_affb4_row0_col4 {\n",
              "  background-color: #d24b40;\n",
              "  color: #f1f1f1;\n",
              "}\n",
              "#T_affb4_row0_col5, #T_affb4_row0_col6 {\n",
              "  background-color: #4c66d6;\n",
              "  color: #f1f1f1;\n",
              "}\n",
              "#T_affb4_row0_col7 {\n",
              "  background-color: #516ddb;\n",
              "  color: #f1f1f1;\n",
              "}\n",
              "#T_affb4_row1_col0 {\n",
              "  background-color: #d65244;\n",
              "  color: #f1f1f1;\n",
              "}\n",
              "#T_affb4_row1_col2, #T_affb4_row1_col7, #T_affb4_row2_col0, #T_affb4_row2_col4, #T_affb4_row6_col0 {\n",
              "  background-color: #3d50c3;\n",
              "  color: #f1f1f1;\n",
              "}\n",
              "#T_affb4_row1_col3, #T_affb4_row1_col5, #T_affb4_row1_col6 {\n",
              "  background-color: #3c4ec2;\n",
              "  color: #f1f1f1;\n",
              "}\n",
              "#T_affb4_row1_col4, #T_affb4_row4_col1 {\n",
              "  background-color: #bb1b2c;\n",
              "  color: #f1f1f1;\n",
              "}\n",
              "#T_affb4_row2_col1, #T_affb4_row6_col1, #T_affb4_row6_col4, #T_affb4_row7_col0 {\n",
              "  background-color: #3e51c5;\n",
              "  color: #f1f1f1;\n",
              "}\n",
              "#T_affb4_row2_col3 {\n",
              "  background-color: #e26952;\n",
              "  color: #f1f1f1;\n",
              "}\n",
              "#T_affb4_row2_col5, #T_affb4_row3_col5, #T_affb4_row5_col2 {\n",
              "  background-color: #e46e56;\n",
              "  color: #f1f1f1;\n",
              "}\n",
              "#T_affb4_row2_col6, #T_affb4_row2_col7, #T_affb4_row5_col3, #T_affb4_row6_col7, #T_affb4_row7_col2, #T_affb4_row7_col6 {\n",
              "  background-color: #e36c55;\n",
              "  color: #f1f1f1;\n",
              "}\n",
              "#T_affb4_row3_col0, #T_affb4_row3_col1, #T_affb4_row3_col4, #T_affb4_row4_col2, #T_affb4_row4_col3, #T_affb4_row4_col5, #T_affb4_row4_col6, #T_affb4_row4_col7, #T_affb4_row7_col1, #T_affb4_row7_col4 {\n",
              "  background-color: #3b4cc0;\n",
              "  color: #f1f1f1;\n",
              "}\n",
              "#T_affb4_row3_col2, #T_affb4_row6_col2 {\n",
              "  background-color: #e36b54;\n",
              "  color: #f1f1f1;\n",
              "}\n",
              "#T_affb4_row3_col6 {\n",
              "  background-color: #e0654f;\n",
              "  color: #f1f1f1;\n",
              "}\n",
              "#T_affb4_row3_col7, #T_affb4_row7_col3 {\n",
              "  background-color: #e16751;\n",
              "  color: #f1f1f1;\n",
              "}\n",
              "#T_affb4_row4_col0 {\n",
              "  background-color: #d44e41;\n",
              "  color: #f1f1f1;\n",
              "}\n",
              "#T_affb4_row5_col0 {\n",
              "  background-color: #3f53c6;\n",
              "  color: #f1f1f1;\n",
              "}\n",
              "#T_affb4_row5_col1, #T_affb4_row5_col4 {\n",
              "  background-color: #4257c9;\n",
              "  color: #f1f1f1;\n",
              "}\n",
              "#T_affb4_row5_col6, #T_affb4_row5_col7, #T_affb4_row6_col5 {\n",
              "  background-color: #e8765c;\n",
              "  color: #f1f1f1;\n",
              "}\n",
              "#T_affb4_row6_col3 {\n",
              "  background-color: #df634e;\n",
              "  color: #f1f1f1;\n",
              "}\n",
              "#T_affb4_row7_col5 {\n",
              "  background-color: #e9785d;\n",
              "  color: #f1f1f1;\n",
              "}\n",
              "</style>\n",
              "<table id=\"T_affb4\" class=\"dataframe\">\n",
              "  <thead>\n",
              "    <tr>\n",
              "      <th class=\"blank level0\" >&nbsp;</th>\n",
              "      <th id=\"T_affb4_level0_col0\" class=\"col_heading level0 col0\" >Time_spent_Alone</th>\n",
              "      <th id=\"T_affb4_level0_col1\" class=\"col_heading level0 col1\" >Stage_fear</th>\n",
              "      <th id=\"T_affb4_level0_col2\" class=\"col_heading level0 col2\" >Social_event_attendance</th>\n",
              "      <th id=\"T_affb4_level0_col3\" class=\"col_heading level0 col3\" >Going_outside</th>\n",
              "      <th id=\"T_affb4_level0_col4\" class=\"col_heading level0 col4\" >Drained_after_socializing</th>\n",
              "      <th id=\"T_affb4_level0_col5\" class=\"col_heading level0 col5\" >Friends_circle_size</th>\n",
              "      <th id=\"T_affb4_level0_col6\" class=\"col_heading level0 col6\" >Post_frequency</th>\n",
              "      <th id=\"T_affb4_level0_col7\" class=\"col_heading level0 col7\" >Personality</th>\n",
              "    </tr>\n",
              "  </thead>\n",
              "  <tbody>\n",
              "    <tr>\n",
              "      <th id=\"T_affb4_level0_row0\" class=\"row_heading level0 row0\" >Time_spent_Alone</th>\n",
              "      <td id=\"T_affb4_row0_col0\" class=\"data row0 col0\" >1.000000</td>\n",
              "      <td id=\"T_affb4_row0_col1\" class=\"data row0 col1\" >0.824862</td>\n",
              "      <td id=\"T_affb4_row0_col2\" class=\"data row0 col2\" >-0.718139</td>\n",
              "      <td id=\"T_affb4_row0_col3\" class=\"data row0 col3\" >-0.735247</td>\n",
              "      <td id=\"T_affb4_row0_col4\" class=\"data row0 col4\" >0.839927</td>\n",
              "      <td id=\"T_affb4_row0_col5\" class=\"data row0 col5\" >-0.701665</td>\n",
              "      <td id=\"T_affb4_row0_col6\" class=\"data row0 col6\" >-0.718072</td>\n",
              "      <td id=\"T_affb4_row0_col7\" class=\"data row0 col7\" >-0.712468</td>\n",
              "    </tr>\n",
              "    <tr>\n",
              "      <th id=\"T_affb4_level0_row1\" class=\"row_heading level0 row1\" >Stage_fear</th>\n",
              "      <td id=\"T_affb4_row1_col0\" class=\"data row1 col0\" >0.824862</td>\n",
              "      <td id=\"T_affb4_row1_col1\" class=\"data row1 col1\" >1.000000</td>\n",
              "      <td id=\"T_affb4_row1_col2\" class=\"data row1 col2\" >-0.824045</td>\n",
              "      <td id=\"T_affb4_row1_col3\" class=\"data row1 col3\" >-0.847535</td>\n",
              "      <td id=\"T_affb4_row1_col4\" class=\"data row1 col4\" >0.958746</td>\n",
              "      <td id=\"T_affb4_row1_col5\" class=\"data row1 col5\" >-0.799648</td>\n",
              "      <td id=\"T_affb4_row1_col6\" class=\"data row1 col6\" >-0.819148</td>\n",
              "      <td id=\"T_affb4_row1_col7\" class=\"data row1 col7\" >-0.841198</td>\n",
              "    </tr>\n",
              "    <tr>\n",
              "      <th id=\"T_affb4_level0_row2\" class=\"row_heading level0 row2\" >Social_event_attendance</th>\n",
              "      <td id=\"T_affb4_row2_col0\" class=\"data row2 col0\" >-0.718139</td>\n",
              "      <td id=\"T_affb4_row2_col1\" class=\"data row2 col1\" >-0.824045</td>\n",
              "      <td id=\"T_affb4_row2_col2\" class=\"data row2 col2\" >1.000000</td>\n",
              "      <td id=\"T_affb4_row2_col3\" class=\"data row2 col3\" >0.731941</td>\n",
              "      <td id=\"T_affb4_row2_col4\" class=\"data row2 col4\" >-0.841099</td>\n",
              "      <td id=\"T_affb4_row2_col5\" class=\"data row2 col5\" >0.718518</td>\n",
              "      <td id=\"T_affb4_row2_col6\" class=\"data row2 col6\" >0.727732</td>\n",
              "      <td id=\"T_affb4_row2_col7\" class=\"data row2 col7\" >0.721520</td>\n",
              "    </tr>\n",
              "    <tr>\n",
              "      <th id=\"T_affb4_level0_row3\" class=\"row_heading level0 row3\" >Going_outside</th>\n",
              "      <td id=\"T_affb4_row3_col0\" class=\"data row3 col0\" >-0.735247</td>\n",
              "      <td id=\"T_affb4_row3_col1\" class=\"data row3 col1\" >-0.847535</td>\n",
              "      <td id=\"T_affb4_row3_col2\" class=\"data row3 col2\" >0.731941</td>\n",
              "      <td id=\"T_affb4_row3_col3\" class=\"data row3 col3\" >1.000000</td>\n",
              "      <td id=\"T_affb4_row3_col4\" class=\"data row3 col4\" >-0.860372</td>\n",
              "      <td id=\"T_affb4_row3_col5\" class=\"data row3 col5\" >0.718327</td>\n",
              "      <td id=\"T_affb4_row3_col6\" class=\"data row3 col6\" >0.754758</td>\n",
              "      <td id=\"T_affb4_row3_col7\" class=\"data row3 col7\" >0.739251</td>\n",
              "    </tr>\n",
              "    <tr>\n",
              "      <th id=\"T_affb4_level0_row4\" class=\"row_heading level0 row4\" >Drained_after_socializing</th>\n",
              "      <td id=\"T_affb4_row4_col0\" class=\"data row4 col0\" >0.839927</td>\n",
              "      <td id=\"T_affb4_row4_col1\" class=\"data row4 col1\" >0.958746</td>\n",
              "      <td id=\"T_affb4_row4_col2\" class=\"data row4 col2\" >-0.841099</td>\n",
              "      <td id=\"T_affb4_row4_col3\" class=\"data row4 col3\" >-0.860372</td>\n",
              "      <td id=\"T_affb4_row4_col4\" class=\"data row4 col4\" >1.000000</td>\n",
              "      <td id=\"T_affb4_row4_col5\" class=\"data row4 col5\" >-0.812346</td>\n",
              "      <td id=\"T_affb4_row4_col6\" class=\"data row4 col6\" >-0.832304</td>\n",
              "      <td id=\"T_affb4_row4_col7\" class=\"data row4 col7\" >-0.857086</td>\n",
              "    </tr>\n",
              "    <tr>\n",
              "      <th id=\"T_affb4_level0_row5\" class=\"row_heading level0 row5\" >Friends_circle_size</th>\n",
              "      <td id=\"T_affb4_row5_col0\" class=\"data row5 col0\" >-0.701665</td>\n",
              "      <td id=\"T_affb4_row5_col1\" class=\"data row5 col1\" >-0.799648</td>\n",
              "      <td id=\"T_affb4_row5_col2\" class=\"data row5 col2\" >0.718518</td>\n",
              "      <td id=\"T_affb4_row5_col3\" class=\"data row5 col3\" >0.718327</td>\n",
              "      <td id=\"T_affb4_row5_col4\" class=\"data row5 col4\" >-0.812346</td>\n",
              "      <td id=\"T_affb4_row5_col5\" class=\"data row5 col5\" >1.000000</td>\n",
              "      <td id=\"T_affb4_row5_col6\" class=\"data row5 col6\" >0.690381</td>\n",
              "      <td id=\"T_affb4_row5_col7\" class=\"data row5 col7\" >0.687203</td>\n",
              "    </tr>\n",
              "    <tr>\n",
              "      <th id=\"T_affb4_level0_row6\" class=\"row_heading level0 row6\" >Post_frequency</th>\n",
              "      <td id=\"T_affb4_row6_col0\" class=\"data row6 col0\" >-0.718072</td>\n",
              "      <td id=\"T_affb4_row6_col1\" class=\"data row6 col1\" >-0.819148</td>\n",
              "      <td id=\"T_affb4_row6_col2\" class=\"data row6 col2\" >0.727732</td>\n",
              "      <td id=\"T_affb4_row6_col3\" class=\"data row6 col3\" >0.754758</td>\n",
              "      <td id=\"T_affb4_row6_col4\" class=\"data row6 col4\" >-0.832304</td>\n",
              "      <td id=\"T_affb4_row6_col5\" class=\"data row6 col5\" >0.690381</td>\n",
              "      <td id=\"T_affb4_row6_col6\" class=\"data row6 col6\" >1.000000</td>\n",
              "      <td id=\"T_affb4_row6_col7\" class=\"data row6 col7\" >0.721062</td>\n",
              "    </tr>\n",
              "    <tr>\n",
              "      <th id=\"T_affb4_level0_row7\" class=\"row_heading level0 row7\" >Personality</th>\n",
              "      <td id=\"T_affb4_row7_col0\" class=\"data row7 col0\" >-0.712468</td>\n",
              "      <td id=\"T_affb4_row7_col1\" class=\"data row7 col1\" >-0.841198</td>\n",
              "      <td id=\"T_affb4_row7_col2\" class=\"data row7 col2\" >0.721520</td>\n",
              "      <td id=\"T_affb4_row7_col3\" class=\"data row7 col3\" >0.739251</td>\n",
              "      <td id=\"T_affb4_row7_col4\" class=\"data row7 col4\" >-0.857086</td>\n",
              "      <td id=\"T_affb4_row7_col5\" class=\"data row7 col5\" >0.687203</td>\n",
              "      <td id=\"T_affb4_row7_col6\" class=\"data row7 col6\" >0.721062</td>\n",
              "      <td id=\"T_affb4_row7_col7\" class=\"data row7 col7\" >1.000000</td>\n",
              "    </tr>\n",
              "  </tbody>\n",
              "</table>\n"
            ]
          },
          "metadata": {},
          "execution_count": 182
        }
      ]
    },
    {
      "cell_type": "code",
      "source": [
        "f = plt.figure(figsize=(28, 24))\n",
        "plt.matshow(df.corr())\n",
        "plt.xticks(range(df.corr().shape[1]), df.corr().columns, fontsize=8, rotation=75)\n",
        "plt.yticks(range(df.corr().shape[1]), df.corr().columns, fontsize=8)\n",
        "cb = plt.colorbar()\n",
        "cb.ax.tick_params(labelsize=14)\n",
        "plt.title('Correlation Matrix', fontsize=12);\n",
        "\n",
        "plt.show()"
      ],
      "metadata": {
        "colab": {
          "base_uri": "https://localhost:8080/",
          "height": 559
        },
        "id": "3OLjJTm2qkLU",
        "outputId": "e13534ee-c9c9-4950-f084-1dfdfbfe3041"
      },
      "execution_count": 183,
      "outputs": [
        {
          "output_type": "display_data",
          "data": {
            "text/plain": [
              "<Figure size 2800x2400 with 0 Axes>"
            ]
          },
          "metadata": {}
        },
        {
          "output_type": "display_data",
          "data": {
            "text/plain": [
              "<Figure size 480x480 with 2 Axes>"
            ],
            "image/png": "[encoded data removed]"
          },
          "metadata": {}
        }
      ]
    },
    {
      "cell_type": "markdown",
      "source": [
        "##Machine learning process found below"
      ],
      "metadata": {
        "id": "Z4_cjjYEp5ot"
      }
    },
    {
      "cell_type": "code",
      "source": [
        "import sklearn\n",
        "from sklearn.model_selection import train_test_split\n",
        "from sklearn.tree import DecisionTreeClassifier\n",
        "from sklearn.ensemble import RandomForestClassifier\n",
        "import xgboost as xgb\n",
        "from sklearn.metrics import accuracy_score"
      ],
      "metadata": {
        "id": "lJIrqL5Go2Fj"
      },
      "execution_count": 184,
      "outputs": []
    },
    {
      "cell_type": "code",
      "source": [
        "features = df.drop(['Personality'], axis=1)\n",
        "target = df['Personality']\n",
        "X_train, X_test, y_train, y_test = train_test_split(features, target, test_size=1/5)"
      ],
      "metadata": {
        "id": "iY6O9xkUpnlg"
      },
      "execution_count": 185,
      "outputs": []
    },
    {
      "cell_type": "code",
      "source": [
        "X_train.shape, X_test.shape"
      ],
      "metadata": {
        "colab": {
          "base_uri": "https://localhost:8080/"
        },
        "id": "-gWXt5ipxsOi",
        "outputId": "54b973dc-5b02-4c10-b309-1db85fe00c78"
      },
      "execution_count": 186,
      "outputs": [
        {
          "output_type": "execute_result",
          "data": {
            "text/plain": [
              "((2320, 7), (580, 7))"
            ]
          },
          "metadata": {},
          "execution_count": 186
        }
      ]
    },
    {
      "cell_type": "code",
      "source": [
        "#We are going to perform bayesian optimization on all models\n",
        "!pip install bayesian-optimization scikit-learn pandas"
      ],
      "metadata": {
        "colab": {
          "base_uri": "https://localhost:8080/"
        },
        "id": "8JCkxA6Z2IEl",
        "outputId": "f6d01938-edfc-4a61-f48b-43aba34c1267"
      },
      "execution_count": 187,
      "outputs": [
        {
          "output_type": "stream",
          "name": "stdout",
          "text": [
            "Requirement already satisfied: bayesian-optimization in /usr/local/lib/python3.11/dist-packages (2.0.4)\n",
            "Requirement already satisfied: scikit-learn in /usr/local/lib/python3.11/dist-packages (1.6.1)\n",
            "Requirement already satisfied: pandas in /usr/local/lib/python3.11/dist-packages (2.2.2)\n",
            "Requirement already satisfied: colorama<0.5.0,>=0.4.6 in /usr/local/lib/python3.11/dist-packages (from bayesian-optimization) (0.4.6)\n",
            "Requirement already satisfied: numpy>=1.25 in /usr/local/lib/python3.11/dist-packages (from bayesian-optimization) (2.0.2)\n",
            "Requirement already satisfied: scipy<2.0.0,>=1.0.0 in /usr/local/lib/python3.11/dist-packages (from bayesian-optimization) (1.15.3)\n",
            "Requirement already satisfied: joblib>=1.2.0 in /usr/local/lib/python3.11/dist-packages (from scikit-learn) (1.5.1)\n",
            "Requirement already satisfied: threadpoolctl>=3.1.0 in /usr/local/lib/python3.11/dist-packages (from scikit-learn) (3.6.0)\n",
            "Requirement already satisfied: python-dateutil>=2.8.2 in /usr/local/lib/python3.11/dist-packages (from pandas) (2.9.0.post0)\n",
            "Requirement already satisfied: pytz>=2020.1 in /usr/local/lib/python3.11/dist-packages (from pandas) (2025.2)\n",
            "Requirement already satisfied: tzdata>=2022.7 in /usr/local/lib/python3.11/dist-packages (from pandas) (2025.2)\n",
            "Requirement already satisfied: six>=1.5 in /usr/local/lib/python3.11/dist-packages (from python-dateutil>=2.8.2->pandas) (1.17.0)\n"
          ]
        }
      ]
    },
    {
      "cell_type": "code",
      "source": [
        "from bayes_opt import BayesianOptimization\n",
        "from sklearn.model_selection import cross_val_score"
      ],
      "metadata": {
        "id": "Rkw33a5n2DYq"
      },
      "execution_count": 188,
      "outputs": []
    },
    {
      "cell_type": "markdown",
      "source": [
        "###Reusable bayesian optimization function"
      ],
      "metadata": {
        "id": "N0eGrrP5HYKg"
      }
    },
    {
      "cell_type": "code",
      "source": [
        "#Model inspection for targeted feature selection\n",
        "import inspect\n",
        "\n",
        "def filter_model_params(model_class, param_dict):\n",
        "    sig = inspect.signature(model_class.__init__)\n",
        "    valid_params = sig.parameters\n",
        "    return {k: v for k, v in param_dict.items() if k in valid_params}\n"
      ],
      "metadata": {
        "id": "prsp3X2oNOdq"
      },
      "execution_count": 189,
      "outputs": []
    },
    {
      "cell_type": "code",
      "source": [
        "#Function factory allowing reuse of code for bayesian optimization function across models\n",
        "def make_objective(model_class, X, y, scoring=\"accuracy\", cv=3):\n",
        "    def objective(**kwargs):\n",
        "        int_keys = {\"max_depth\", \"min_samples_split\", \"min_samples_leaf\", \"n_estimators\"}\n",
        "        for key in int_keys:\n",
        "            if key in kwargs:\n",
        "                kwargs[key] = int(kwargs[key])\n",
        "\n",
        "        if \"criterion\" in kwargs:\n",
        "            kwargs[\"criterion\"] = \"gini\" if kwargs[\"criterion\"] < 0.5 else \"entropy\"\n",
        "\n",
        "        if \"max_features\" in kwargs:\n",
        "            kwargs[\"max_features\"] = max(kwargs[\"max_features\"], 0.999)\n",
        "            kwargs[\"max_features\"] = min(kwargs[\"max_features\"], 0.999)\n",
        "\n",
        "        filtered_params = filter_model_params(model_class, kwargs)\n",
        "\n",
        "        model = model_class(**filtered_params)\n",
        "        score = cross_val_score(model, X, y, cv=cv, scoring=scoring).mean()\n",
        "        return score\n",
        "    return objective\n"
      ],
      "metadata": {
        "id": "yC1LVfXYNYV3"
      },
      "execution_count": 190,
      "outputs": []
    },
    {
      "cell_type": "markdown",
      "source": [
        "###Decision Tree"
      ],
      "metadata": {
        "id": "8_1kZgr3-CsW"
      }
    },
    {
      "cell_type": "code",
      "source": [
        "DT_param_bounds = {\n",
        "    'criterion': (0, 1),\n",
        "    'max_depth': (5, 20),\n",
        "    'min_samples_split': (2, 25),\n",
        "    'min_samples_leaf': (3, 25),\n",
        "    'max_features': (0, 1),\n",
        "}\n",
        "\n",
        "objective_fn = make_objective(DecisionTreeClassifier, X_train, y_train, scoring=\"accuracy\")\n",
        "\n",
        "optimizer = BayesianOptimization(f=objective_fn, pbounds=DT_param_bounds, random_state=None)\n",
        "optimizer.maximize(init_points=5, n_iter=15)\n"
      ],
      "metadata": {
        "colab": {
          "base_uri": "https://localhost:8080/"
        },
        "id": "30FKjQ6RJYvQ",
        "outputId": "4d626334-9d5b-4264-d871-d233fa06fd07"
      },
      "execution_count": 191,
      "outputs": [
        {
          "output_type": "stream",
          "name": "stdout",
          "text": [
            "|   iter    |  target   | criterion | max_depth | max_fe... | min_sa... | min_sa... |\n",
            "-------------------------------------------------------------------------------------\n",
            "| \u001b[39m1        \u001b[39m | \u001b[39m0.925    \u001b[39m | \u001b[39m0.04099  \u001b[39m | \u001b[39m17.85    \u001b[39m | \u001b[39m0.6101   \u001b[39m | \u001b[39m23.81    \u001b[39m | \u001b[39m11.33    \u001b[39m |\n",
            "| \u001b[35m2        \u001b[39m | \u001b[35m0.928    \u001b[39m | \u001b[35m0.1141   \u001b[39m | \u001b[35m17.96    \u001b[39m | \u001b[35m0.1894   \u001b[39m | \u001b[35m22.93    \u001b[39m | \u001b[35m2.945    \u001b[39m |\n",
            "| \u001b[35m3        \u001b[39m | \u001b[35m0.9345   \u001b[39m | \u001b[35m0.9445   \u001b[39m | \u001b[35m5.583    \u001b[39m | \u001b[35m0.474    \u001b[39m | \u001b[35m7.483    \u001b[39m | \u001b[35m16.86    \u001b[39m |\n",
            "| \u001b[39m4        \u001b[39m | \u001b[39m0.928    \u001b[39m | \u001b[39m0.7894   \u001b[39m | \u001b[39m15.26    \u001b[39m | \u001b[39m0.1891   \u001b[39m | \u001b[39m18.81    \u001b[39m | \u001b[39m6.069    \u001b[39m |\n",
            "| \u001b[39m5        \u001b[39m | \u001b[39m0.925    \u001b[39m | \u001b[39m0.6783   \u001b[39m | \u001b[39m18.76    \u001b[39m | \u001b[39m0.02649  \u001b[39m | \u001b[39m23.77    \u001b[39m | \u001b[39m7.04     \u001b[39m |\n",
            "| \u001b[39m6        \u001b[39m | \u001b[39m0.9345   \u001b[39m | \u001b[39m0.0      \u001b[39m | \u001b[39m5.0      \u001b[39m | \u001b[39m1.0      \u001b[39m | \u001b[39m4.04     \u001b[39m | \u001b[39m9.805    \u001b[39m |\n",
            "| \u001b[39m7        \u001b[39m | \u001b[39m0.9233   \u001b[39m | \u001b[39m0.0      \u001b[39m | \u001b[39m15.23    \u001b[39m | \u001b[39m1.0      \u001b[39m | \u001b[39m3.0      \u001b[39m | \u001b[39m16.97    \u001b[39m |\n",
            "| \u001b[39m8        \u001b[39m | \u001b[39m0.9332   \u001b[39m | \u001b[39m1.0      \u001b[39m | \u001b[39m5.0      \u001b[39m | \u001b[39m0.0      \u001b[39m | \u001b[39m11.53    \u001b[39m | \u001b[39m10.51    \u001b[39m |\n",
            "| \u001b[39m9        \u001b[39m | \u001b[39m0.9306   \u001b[39m | \u001b[39m1.0      \u001b[39m | \u001b[39m5.0      \u001b[39m | \u001b[39m0.0      \u001b[39m | \u001b[39m15.15    \u001b[39m | \u001b[39m23.76    \u001b[39m |\n",
            "| \u001b[39m10       \u001b[39m | \u001b[39m0.9345   \u001b[39m | \u001b[39m1.0      \u001b[39m | \u001b[39m5.0      \u001b[39m | \u001b[39m0.0      \u001b[39m | \u001b[39m5.255    \u001b[39m | \u001b[39m2.0      \u001b[39m |\n",
            "| \u001b[39m11       \u001b[39m | \u001b[39m0.928    \u001b[39m | \u001b[39m0.0      \u001b[39m | \u001b[39m5.0      \u001b[39m | \u001b[39m1.0      \u001b[39m | \u001b[39m15.48    \u001b[39m | \u001b[39m2.0      \u001b[39m |\n",
            "| \u001b[39m12       \u001b[39m | \u001b[39m0.9177   \u001b[39m | \u001b[39m1.0      \u001b[39m | \u001b[39m12.39    \u001b[39m | \u001b[39m0.0      \u001b[39m | \u001b[39m3.0      \u001b[39m | \u001b[39m2.0      \u001b[39m |\n",
            "| \u001b[39m13       \u001b[39m | \u001b[39m0.934    \u001b[39m | \u001b[39m0.679    \u001b[39m | \u001b[39m5.046    \u001b[39m | \u001b[39m0.1808   \u001b[39m | \u001b[39m8.56     \u001b[39m | \u001b[39m5.999    \u001b[39m |\n",
            "| \u001b[39m14       \u001b[39m | \u001b[39m0.9345   \u001b[39m | \u001b[39m0.3253   \u001b[39m | \u001b[39m5.025    \u001b[39m | \u001b[39m0.3596   \u001b[39m | \u001b[39m3.287    \u001b[39m | \u001b[39m24.25    \u001b[39m |\n",
            "| \u001b[39m15       \u001b[39m | \u001b[39m0.928    \u001b[39m | \u001b[39m1.0      \u001b[39m | \u001b[39m5.0      \u001b[39m | \u001b[39m0.0      \u001b[39m | \u001b[39m25.0     \u001b[39m | \u001b[39m17.67    \u001b[39m |\n",
            "| \u001b[39m16       \u001b[39m | \u001b[39m0.9336   \u001b[39m | \u001b[39m0.2218   \u001b[39m | \u001b[39m9.711    \u001b[39m | \u001b[39m0.4029   \u001b[39m | \u001b[39m8.964    \u001b[39m | \u001b[39m24.89    \u001b[39m |\n",
            "| \u001b[39m17       \u001b[39m | \u001b[39m0.9237   \u001b[39m | \u001b[39m1.0      \u001b[39m | \u001b[39m19.87    \u001b[39m | \u001b[39m0.0      \u001b[39m | \u001b[39m16.74    \u001b[39m | \u001b[39m25.0     \u001b[39m |\n",
            "| \u001b[39m18       \u001b[39m | \u001b[39m0.9341   \u001b[39m | \u001b[39m0.2588   \u001b[39m | \u001b[39m5.12     \u001b[39m | \u001b[39m0.5238   \u001b[39m | \u001b[39m7.586    \u001b[39m | \u001b[39m24.97    \u001b[39m |\n",
            "| \u001b[39m19       \u001b[39m | \u001b[39m0.9336   \u001b[39m | \u001b[39m0.0      \u001b[39m | \u001b[39m5.0      \u001b[39m | \u001b[39m1.0      \u001b[39m | \u001b[39m3.0      \u001b[39m | \u001b[39m17.66    \u001b[39m |\n",
            "| \u001b[39m20       \u001b[39m | \u001b[39m0.9203   \u001b[39m | \u001b[39m1.0      \u001b[39m | \u001b[39m5.0      \u001b[39m | \u001b[39m0.0      \u001b[39m | \u001b[39m25.0     \u001b[39m | \u001b[39m2.0      \u001b[39m |\n",
            "=====================================================================================\n"
          ]
        }
      ]
    },
    {
      "cell_type": "code",
      "source": [
        "DT_best_params = optimizer.max['params']"
      ],
      "metadata": {
        "id": "z-8U6edGC5qV"
      },
      "execution_count": 192,
      "outputs": []
    },
    {
      "cell_type": "markdown",
      "source": [
        "###Random Forest Classifier"
      ],
      "metadata": {
        "id": "ZWsM2_5C-KV2"
      }
    },
    {
      "cell_type": "code",
      "source": [
        "RF_param_bounds = {\n",
        "    'n_estimators': (100, 400),\n",
        "    'criterion': (0, 1),\n",
        "    'max_depth': (5, 20),\n",
        "    'min_samples_split': (2, 25),\n",
        "    'min_samples_leaf': (2, 25),\n",
        "    'max_features': (0, 1)\n",
        "}\n",
        "\n",
        "objective_fn = make_objective(RandomForestClassifier, X_train, y_train, scoring=\"accuracy\")\n",
        "\n",
        "optimizer = BayesianOptimization(f=objective_fn, pbounds=RF_param_bounds, random_state=None)\n",
        "optimizer.maximize(init_points=5, n_iter=15)"
      ],
      "metadata": {
        "colab": {
          "base_uri": "https://localhost:8080/"
        },
        "id": "Uj4-RTmtS1R3",
        "outputId": "6e7e4336-94f7-4722-f7e4-9cd66fc6198d"
      },
      "execution_count": 193,
      "outputs": [
        {
          "output_type": "stream",
          "name": "stdout",
          "text": [
            "|   iter    |  target   | criterion | max_depth | max_fe... | min_sa... | min_sa... | n_esti... |\n",
            "-------------------------------------------------------------------------------------------------\n",
            "| \u001b[39m1        \u001b[39m | \u001b[39m0.928    \u001b[39m | \u001b[39m0.8159   \u001b[39m | \u001b[39m12.63    \u001b[39m | \u001b[39m0.06562  \u001b[39m | \u001b[39m24.77    \u001b[39m | \u001b[39m3.733    \u001b[39m | \u001b[39m101.6    \u001b[39m |\n",
            "| \u001b[39m2        \u001b[39m | \u001b[39m0.928    \u001b[39m | \u001b[39m0.385    \u001b[39m | \u001b[39m6.34     \u001b[39m | \u001b[39m0.2514   \u001b[39m | \u001b[39m24.5     \u001b[39m | \u001b[39m19.27    \u001b[39m | \u001b[39m313.7    \u001b[39m |\n",
            "| \u001b[39m3        \u001b[39m | \u001b[39m0.928    \u001b[39m | \u001b[39m0.3372   \u001b[39m | \u001b[39m9.096    \u001b[39m | \u001b[39m0.3562   \u001b[39m | \u001b[39m17.2     \u001b[39m | \u001b[39m4.989    \u001b[39m | \u001b[39m387.5    \u001b[39m |\n",
            "| \u001b[35m4        \u001b[39m | \u001b[35m0.9345   \u001b[39m | \u001b[35m0.3857   \u001b[39m | \u001b[35m15.43    \u001b[39m | \u001b[35m0.2142   \u001b[39m | \u001b[35m5.637    \u001b[39m | \u001b[35m10.15    \u001b[39m | \u001b[35m181.7    \u001b[39m |\n",
            "| \u001b[39m5        \u001b[39m | \u001b[39m0.9293   \u001b[39m | \u001b[39m0.4308   \u001b[39m | \u001b[39m18.23    \u001b[39m | \u001b[39m0.07706  \u001b[39m | \u001b[39m12.76    \u001b[39m | \u001b[39m24.59    \u001b[39m | \u001b[39m342.2    \u001b[39m |\n",
            "| \u001b[39m6        \u001b[39m | \u001b[39m0.9341   \u001b[39m | \u001b[39m0.0835   \u001b[39m | \u001b[39m15.74    \u001b[39m | \u001b[39m0.8105   \u001b[39m | \u001b[39m6.573    \u001b[39m | \u001b[39m8.157    \u001b[39m | \u001b[39m180.6    \u001b[39m |\n",
            "| \u001b[39m7        \u001b[39m | \u001b[39m0.9341   \u001b[39m | \u001b[39m1.0      \u001b[39m | \u001b[39m14.3     \u001b[39m | \u001b[39m0.0      \u001b[39m | \u001b[39m2.174    \u001b[39m | \u001b[39m21.72    \u001b[39m | \u001b[39m205.0    \u001b[39m |\n",
            "| \u001b[39m8        \u001b[39m | \u001b[39m0.9345   \u001b[39m | \u001b[39m1.0      \u001b[39m | \u001b[39m5.0      \u001b[39m | \u001b[39m0.0      \u001b[39m | \u001b[39m2.0      \u001b[39m | \u001b[39m25.0     \u001b[39m | \u001b[39m168.4    \u001b[39m |\n",
            "| \u001b[39m9        \u001b[39m | \u001b[39m0.928    \u001b[39m | \u001b[39m1.0      \u001b[39m | \u001b[39m5.0      \u001b[39m | \u001b[39m0.0      \u001b[39m | \u001b[39m25.0     \u001b[39m | \u001b[39m25.0     \u001b[39m | \u001b[39m188.7    \u001b[39m |\n",
            "| \u001b[39m10       \u001b[39m | \u001b[39m0.9345   \u001b[39m | \u001b[39m1.0      \u001b[39m | \u001b[39m20.0     \u001b[39m | \u001b[39m0.0      \u001b[39m | \u001b[39m2.0      \u001b[39m | \u001b[39m20.64    \u001b[39m | \u001b[39m156.1    \u001b[39m |\n",
            "| \u001b[39m11       \u001b[39m | \u001b[39m0.9306   \u001b[39m | \u001b[39m0.0      \u001b[39m | \u001b[39m20.0     \u001b[39m | \u001b[39m0.0      \u001b[39m | \u001b[39m2.0      \u001b[39m | \u001b[39m2.0      \u001b[39m | \u001b[39m230.7    \u001b[39m |\n",
            "| \u001b[39m12       \u001b[39m | \u001b[39m0.9345   \u001b[39m | \u001b[39m0.8647   \u001b[39m | \u001b[39m6.302    \u001b[39m | \u001b[39m0.4942   \u001b[39m | \u001b[39m2.391    \u001b[39m | \u001b[39m4.432    \u001b[39m | \u001b[39m152.3    \u001b[39m |\n",
            "| \u001b[39m13       \u001b[39m | \u001b[39m0.9345   \u001b[39m | \u001b[39m0.0      \u001b[39m | \u001b[39m5.0      \u001b[39m | \u001b[39m1.0      \u001b[39m | \u001b[39m2.0      \u001b[39m | \u001b[39m25.0     \u001b[39m | \u001b[39m136.3    \u001b[39m |\n",
            "| \u001b[39m14       \u001b[39m | \u001b[39m0.9345   \u001b[39m | \u001b[39m1.0      \u001b[39m | \u001b[39m5.0      \u001b[39m | \u001b[39m0.0      \u001b[39m | \u001b[39m2.0      \u001b[39m | \u001b[39m2.0      \u001b[39m | \u001b[39m196.5    \u001b[39m |\n",
            "| \u001b[39m15       \u001b[39m | \u001b[39m0.9319   \u001b[39m | \u001b[39m1.0      \u001b[39m | \u001b[39m20.0     \u001b[39m | \u001b[39m0.0      \u001b[39m | \u001b[39m2.0      \u001b[39m | \u001b[39m2.0      \u001b[39m | \u001b[39m133.7    \u001b[39m |\n",
            "| \u001b[39m16       \u001b[39m | \u001b[39m0.9345   \u001b[39m | \u001b[39m0.0      \u001b[39m | \u001b[39m5.0      \u001b[39m | \u001b[39m0.0      \u001b[39m | \u001b[39m2.0      \u001b[39m | \u001b[39m25.0     \u001b[39m | \u001b[39m264.2    \u001b[39m |\n",
            "| \u001b[39m17       \u001b[39m | \u001b[39m0.928    \u001b[39m | \u001b[39m1.0      \u001b[39m | \u001b[39m5.0      \u001b[39m | \u001b[39m0.0      \u001b[39m | \u001b[39m25.0     \u001b[39m | \u001b[39m25.0     \u001b[39m | \u001b[39m254.4    \u001b[39m |\n",
            "| \u001b[39m18       \u001b[39m | \u001b[39m0.9306   \u001b[39m | \u001b[39m0.9511   \u001b[39m | \u001b[39m20.0     \u001b[39m | \u001b[39m1.0      \u001b[39m | \u001b[39m2.0      \u001b[39m | \u001b[39m2.0      \u001b[39m | \u001b[39m277.2    \u001b[39m |\n",
            "| \u001b[39m19       \u001b[39m | \u001b[39m0.928    \u001b[39m | \u001b[39m0.0      \u001b[39m | \u001b[39m5.0      \u001b[39m | \u001b[39m0.0      \u001b[39m | \u001b[39m25.0     \u001b[39m | \u001b[39m25.0     \u001b[39m | \u001b[39m144.5    \u001b[39m |\n",
            "| \u001b[39m20       \u001b[39m | \u001b[39m0.9345   \u001b[39m | \u001b[39m0.0      \u001b[39m | \u001b[39m5.0      \u001b[39m | \u001b[39m0.0      \u001b[39m | \u001b[39m2.0      \u001b[39m | \u001b[39m25.0     \u001b[39m | \u001b[39m282.5    \u001b[39m |\n",
            "=================================================================================================\n"
          ]
        }
      ]
    },
    {
      "cell_type": "code",
      "source": [
        "RF_best_params = optimizer.max['params']"
      ],
      "metadata": {
        "id": "5CBpgjW8TNcw"
      },
      "execution_count": 194,
      "outputs": []
    },
    {
      "cell_type": "code",
      "source": [
        "print(RF_best_params)"
      ],
      "metadata": {
        "colab": {
          "base_uri": "https://localhost:8080/"
        },
        "id": "FIQWaVSXlTPA",
        "outputId": "a280d7ec-918e-4ddc-f31a-9256f66a9b2c"
      },
      "execution_count": 195,
      "outputs": [
        {
          "output_type": "stream",
          "name": "stdout",
          "text": [
            "{'criterion': np.float64(0.3857065508323365), 'max_depth': np.float64(15.427361933808948), 'max_features': np.float64(0.21423493163382412), 'min_samples_leaf': np.float64(5.637373539111231), 'min_samples_split': np.float64(10.149830150998005), 'n_estimators': np.float64(181.65948879886335)}\n"
          ]
        }
      ]
    },
    {
      "cell_type": "markdown",
      "source": [
        "Okay this baysian model works well against seen data, but does overfit quite a bit"
      ],
      "metadata": {
        "id": "4_gD72cG4UbU"
      }
    },
    {
      "cell_type": "markdown",
      "source": [
        "###XGBoost"
      ],
      "metadata": {
        "id": "DImHatBY-V5k"
      }
    },
    {
      "cell_type": "code",
      "source": [
        "XGB_param_bounds = {\n",
        "    'n_estimators': (10, 200),\n",
        "    'max_depth': (1, 20),\n",
        "    'learning_rate': (0.01, 0.5)\n",
        "}\n",
        "\n",
        "objective_fn = make_objective(xgb.XGBClassifier, X_train, y_train, scoring=\"accuracy\")\n",
        "\n",
        "optimizer = BayesianOptimization(f=objective_fn, pbounds=XGB_param_bounds, random_state=42)\n",
        "optimizer.maximize(init_points=5, n_iter=15)"
      ],
      "metadata": {
        "colab": {
          "base_uri": "https://localhost:8080/"
        },
        "id": "UE58Rib6TV3d",
        "outputId": "66fd22f6-bad2-4be6-a2b3-96bf4526152b"
      },
      "execution_count": 196,
      "outputs": [
        {
          "output_type": "stream",
          "name": "stdout",
          "text": [
            "|   iter    |  target   | learni... | max_depth | n_esti... |\n",
            "-------------------------------------------------------------\n",
            "| \u001b[39m1        \u001b[39m | \u001b[39m0.9185   \u001b[39m | \u001b[39m0.1935   \u001b[39m | \u001b[39m19.06    \u001b[39m | \u001b[39m149.1    \u001b[39m |\n",
            "| \u001b[39m2        \u001b[39m | \u001b[39m0.9185   \u001b[39m | \u001b[39m0.3033   \u001b[39m | \u001b[39m3.964    \u001b[39m | \u001b[39m39.64    \u001b[39m |\n",
            "| \u001b[39m3        \u001b[39m | \u001b[39m0.9185   \u001b[39m | \u001b[39m0.03846  \u001b[39m | \u001b[39m17.46    \u001b[39m | \u001b[39m124.2    \u001b[39m |\n",
            "| \u001b[39m4        \u001b[39m | \u001b[39m0.9185   \u001b[39m | \u001b[39m0.357    \u001b[39m | \u001b[39m1.391    \u001b[39m | \u001b[39m194.3    \u001b[39m |\n",
            "| \u001b[39m5        \u001b[39m | \u001b[39m0.9185   \u001b[39m | \u001b[39m0.4179   \u001b[39m | \u001b[39m5.034    \u001b[39m | \u001b[39m44.55    \u001b[39m |\n",
            "| \u001b[39m6        \u001b[39m | \u001b[39m0.9185   \u001b[39m | \u001b[39m0.2105   \u001b[39m | \u001b[39m19.84    \u001b[39m | \u001b[39m10.16    \u001b[39m |\n",
            "| \u001b[39m7        \u001b[39m | \u001b[39m0.9185   \u001b[39m | \u001b[39m0.06265  \u001b[39m | \u001b[39m19.94    \u001b[39m | \u001b[39m199.9    \u001b[39m |\n",
            "| \u001b[39m8        \u001b[39m | \u001b[39m0.9185   \u001b[39m | \u001b[39m0.1694   \u001b[39m | \u001b[39m10.1     \u001b[39m | \u001b[39m37.13    \u001b[39m |\n",
            "| \u001b[39m9        \u001b[39m | \u001b[39m0.9185   \u001b[39m | \u001b[39m0.4592   \u001b[39m | \u001b[39m2.409    \u001b[39m | \u001b[39m199.9    \u001b[39m |\n",
            "| \u001b[39m10       \u001b[39m | \u001b[39m0.9185   \u001b[39m | \u001b[39m0.4481   \u001b[39m | \u001b[39m17.37    \u001b[39m | \u001b[39m88.51    \u001b[39m |\n",
            "| \u001b[39m11       \u001b[39m | \u001b[39m0.9185   \u001b[39m | \u001b[39m0.1137   \u001b[39m | \u001b[39m1.158    \u001b[39m | \u001b[39m10.71    \u001b[39m |\n",
            "| \u001b[39m12       \u001b[39m | \u001b[39m0.9185   \u001b[39m | \u001b[39m0.1764   \u001b[39m | \u001b[39m1.617    \u001b[39m | \u001b[39m199.8    \u001b[39m |\n",
            "| \u001b[39m13       \u001b[39m | \u001b[39m0.9185   \u001b[39m | \u001b[39m0.1708   \u001b[39m | \u001b[39m1.353    \u001b[39m | \u001b[39m10.3     \u001b[39m |\n",
            "| \u001b[39m14       \u001b[39m | \u001b[39m0.9185   \u001b[39m | \u001b[39m0.3091   \u001b[39m | \u001b[39m5.208    \u001b[39m | \u001b[39m195.5    \u001b[39m |\n",
            "| \u001b[39m15       \u001b[39m | \u001b[39m0.9185   \u001b[39m | \u001b[39m0.03002  \u001b[39m | \u001b[39m10.29    \u001b[39m | \u001b[39m122.4    \u001b[39m |\n",
            "| \u001b[39m16       \u001b[39m | \u001b[39m0.9185   \u001b[39m | \u001b[39m0.1611   \u001b[39m | \u001b[39m17.36    \u001b[39m | \u001b[39m27.83    \u001b[39m |\n",
            "| \u001b[39m17       \u001b[39m | \u001b[39m0.9185   \u001b[39m | \u001b[39m0.2301   \u001b[39m | \u001b[39m19.67    \u001b[39m | \u001b[39m199.8    \u001b[39m |\n",
            "| \u001b[39m18       \u001b[39m | \u001b[39m0.9185   \u001b[39m | \u001b[39m0.3254   \u001b[39m | \u001b[39m19.92    \u001b[39m | \u001b[39m10.98    \u001b[39m |\n",
            "| \u001b[39m19       \u001b[39m | \u001b[39m0.9185   \u001b[39m | \u001b[39m0.3101   \u001b[39m | \u001b[39m2.169    \u001b[39m | \u001b[39m90.72    \u001b[39m |\n",
            "| \u001b[39m20       \u001b[39m | \u001b[39m0.9185   \u001b[39m | \u001b[39m0.2525   \u001b[39m | \u001b[39m19.61    \u001b[39m | \u001b[39m199.8    \u001b[39m |\n",
            "=============================================================\n"
          ]
        }
      ]
    },
    {
      "cell_type": "code",
      "source": [
        "XG_best_params = optimizer.max['params']"
      ],
      "metadata": {
        "id": "ZAbQHmMZU4Fw"
      },
      "execution_count": 197,
      "outputs": []
    },
    {
      "cell_type": "markdown",
      "source": [
        "##Final evaluation of models\n",
        "To include table with accuracy, precision, and recall scores\n",
        "\n",
        "Additionally figure with all confusion matrices"
      ],
      "metadata": {
        "id": "H9uhEy3O-dA7"
      }
    },
    {
      "cell_type": "code",
      "source": [
        "dt_model = DecisionTreeClassifier(\n",
        "    criterion= 'gini' if DT_best_params['criterion'] < 0.5 else 'entropy',\n",
        "    max_depth=int(DT_best_params['max_depth']),\n",
        "    max_features=DT_best_params['max_features'],\n",
        "    min_samples_leaf=int(DT_best_params['min_samples_leaf']),\n",
        "    min_samples_split=int(DT_best_params['min_samples_split']),\n",
        ")\n",
        "dt_model.fit(X_train, y_train)\n",
        "dtscore = dt_model.score(X_test, y_test)\n",
        "print(dt_model.score(X_train, y_train))\n",
        "print(dt_model.score(X_test, y_test))\n",
        "dt_pred = dt_model.predict(X_test)\n"
      ],
      "metadata": {
        "colab": {
          "base_uri": "https://localhost:8080/"
        },
        "id": "o9c6QNWqZA3p",
        "outputId": "3c2b52dc-b002-4ad0-e6d2-5a299d95a6f8"
      },
      "execution_count": 198,
      "outputs": [
        {
          "output_type": "stream",
          "name": "stdout",
          "text": [
            "0.9336206896551724\n",
            "0.9327586206896552\n"
          ]
        }
      ]
    },
    {
      "cell_type": "code",
      "source": [
        "print(DT_best_params)\n",
        "print(RF_best_params)"
      ],
      "metadata": {
        "colab": {
          "base_uri": "https://localhost:8080/"
        },
        "id": "RhlNcA7Viayq",
        "outputId": "dcad6852-5ec0-42c7-b013-79636ad4fcb3"
      },
      "execution_count": 199,
      "outputs": [
        {
          "output_type": "stream",
          "name": "stdout",
          "text": [
            "{'criterion': np.float64(0.9444657180425852), 'max_depth': np.float64(5.582715257505028), 'max_features': np.float64(0.4740043606399621), 'min_samples_leaf': np.float64(7.4831836997643055), 'min_samples_split': np.float64(16.864533493447368)}\n",
            "{'criterion': np.float64(0.3857065508323365), 'max_depth': np.float64(15.427361933808948), 'max_features': np.float64(0.21423493163382412), 'min_samples_leaf': np.float64(5.637373539111231), 'min_samples_split': np.float64(10.149830150998005), 'n_estimators': np.float64(181.65948879886335)}\n"
          ]
        }
      ]
    },
    {
      "cell_type": "code",
      "source": [
        "rf_model = RandomForestClassifier(\n",
        "    criterion= 'gini' if RF_best_params['criterion'] < 0.5 else 'entropy',\n",
        "    max_depth=int(RF_best_params['max_depth']),\n",
        "    max_features=RF_best_params['max_features'],\n",
        "    min_samples_leaf=int(RF_best_params['min_samples_leaf']),\n",
        "    min_samples_split=int(RF_best_params['min_samples_split']),\n",
        "    n_estimators=int(RF_best_params['n_estimators']),\n",
        "    random_state=42\n",
        ")\n",
        "rf_model.fit(X_train, y_train)\n",
        "rfscore = rf_model.score(X_test, y_test)\n",
        "print(rf_model.score(X_train, y_train))\n",
        "print(rf_model.score(X_test, y_test))\n",
        "rf_pred = rf_model.predict(X_test)"
      ],
      "metadata": {
        "colab": {
          "base_uri": "https://localhost:8080/"
        },
        "id": "GVoDalsB3f6r",
        "outputId": "5afe7df4-5b3c-4d9d-9dd7-ae03817cd4f0"
      },
      "execution_count": 200,
      "outputs": [
        {
          "output_type": "stream",
          "name": "stdout",
          "text": [
            "0.9344827586206896\n",
            "0.9344827586206896\n"
          ]
        }
      ]
    },
    {
      "cell_type": "code",
      "source": [
        "xgb_model = xgb.XGBClassifier(learning_rate=XG_best_params['learning_rate'],\n",
        "                              max_depth=int(XG_best_params['max_depth']),\n",
        "                              n_estimators=int(XG_best_params['n_estimators']))\n",
        "xgb_model.fit(X_train, y_train)\n",
        "xgbscore = xgb_model.score(X_test, y_test)\n",
        "print(xgb_model.score(X_train, y_train))\n",
        "print(xgb_model.score(X_test, y_test))\n",
        "xgb_pred = xgb_model.predict(X_test)"
      ],
      "metadata": {
        "colab": {
          "base_uri": "https://localhost:8080/"
        },
        "id": "Tr2fKG9YVD72",
        "outputId": "2c2495c3-0028-4037-db0f-d79c446bbfad"
      },
      "execution_count": 201,
      "outputs": [
        {
          "output_type": "stream",
          "name": "stdout",
          "text": [
            "0.9818965517241379\n",
            "0.8982758620689655\n"
          ]
        }
      ]
    },
    {
      "cell_type": "code",
      "source": [
        "from sklearn.metrics import confusion_matrix"
      ],
      "metadata": {
        "id": "UnlC9s80fO36"
      },
      "execution_count": 202,
      "outputs": []
    },
    {
      "cell_type": "code",
      "source": [
        "dt_cm = confusion_matrix(y_test, dt_pred)\n",
        "rf_cm = confusion_matrix(y_test, rf_pred)\n",
        "xgb_cm = confusion_matrix(y_test, xgb_pred)"
      ],
      "metadata": {
        "id": "lvX1xSwPf5qs"
      },
      "execution_count": 204,
      "outputs": []
    },
    {
      "cell_type": "code",
      "source": [
        "conf_matrices = [\n",
        "    ('XGBoost', xgb_cm),\n",
        "    ('Random Forest', rf_cm),\n",
        "    ('Decision Tree', dt_cm)\n",
        "]\n",
        "\n",
        "fig, axes = plt.subplots(1, 3, figsize=(18, 5))  # 1 row, 3 columns\n",
        "\n",
        "for ax, (title, cm) in zip(axes, conf_matrices):\n",
        "    sns.heatmap(cm,\n",
        "                annot=True,\n",
        "                fmt='g',\n",
        "                xticklabels=['Introvert', 'Extrovert'],\n",
        "                yticklabels=['Introvert', 'Extrovert'],\n",
        "                ax=ax,\n",
        "                cbar=False)\n",
        "    ax.set_title(title, fontsize=16, pad=15)\n",
        "    ax.set_xlabel('Prediction', fontsize=12)\n",
        "    ax.set_ylabel('Actual', fontsize=12)\n",
        "    ax.xaxis.set_label_position('top')\n",
        "    ax.xaxis.tick_top()\n",
        "\n",
        "plt.tight_layout(pad=3.0)\n",
        "plt.show()\n"
      ],
      "metadata": {
        "colab": {
          "base_uri": "https://localhost:8080/",
          "height": 229
        },
        "id": "qeLFvZNDssu4",
        "outputId": "3d40dfd5-1dcf-44d8-f1cd-6185680e5d16"
      },
      "execution_count": 214,
      "outputs": [
        {
          "output_type": "display_data",
          "data": {
            "text/plain": [
              "<Figure size 1800x500 with 3 Axes>"
            ],
            "image/png": "[encoded data removed]"
          },
          "metadata": {}
        }
      ]
    }
  ]
}